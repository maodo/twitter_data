{
 "cells": [
  {
   "cell_type": "code",
   "execution_count": 1,
   "metadata": {},
   "outputs": [],
   "source": [
    "import pandas as pd\n",
    "import snscrape.modules.twitter as sntwitter"
   ]
  },
  {
   "cell_type": "code",
   "execution_count": 16,
   "metadata": {},
   "outputs": [],
   "source": [
    "def get_twitter_data(username,limit):\n",
    "    tweets_list = []\n",
    "    for i, tweet in enumerate(sntwitter.TwitterSearchScraper('from:'+username).get_items()):\n",
    "        if i > limit:\n",
    "            break\n",
    "        tweets_list.append([tweet.date, tweet.id, tweet.content, tweet.user.username])\n",
    "    return tweets_list"
   ]
  },
  {
   "cell_type": "code",
   "execution_count": null,
   "metadata": {},
   "outputs": [],
   "source": []
  },
  {
   "cell_type": "code",
   "execution_count": 19,
   "metadata": {},
   "outputs": [],
   "source": [
    "tweets_list = get_twitter_data(username='autorouteavenir',limit=100)\n",
    "tweets_data = pd.DataFrame(tweets_list,columns=['Datetime','Tweet id','Text','Username'])"
   ]
  },
  {
   "cell_type": "code",
   "execution_count": 20,
   "metadata": {},
   "outputs": [
    {
     "data": {
      "text/html": [
       "<div>\n",
       "<style scoped>\n",
       "    .dataframe tbody tr th:only-of-type {\n",
       "        vertical-align: middle;\n",
       "    }\n",
       "\n",
       "    .dataframe tbody tr th {\n",
       "        vertical-align: top;\n",
       "    }\n",
       "\n",
       "    .dataframe thead th {\n",
       "        text-align: right;\n",
       "    }\n",
       "</style>\n",
       "<table border=\"1\" class=\"dataframe\">\n",
       "  <thead>\n",
       "    <tr style=\"text-align: right;\">\n",
       "      <th></th>\n",
       "      <th>Datetime</th>\n",
       "      <th>Tweet id</th>\n",
       "      <th>Text</th>\n",
       "      <th>Username</th>\n",
       "    </tr>\n",
       "  </thead>\n",
       "  <tbody>\n",
       "    <tr>\n",
       "      <th>0</th>\n",
       "      <td>2022-12-17 17:02:16+00:00</td>\n",
       "      <td>1604160058321162240</td>\n",
       "      <td>[17 Décembre 2022 | 17:01] Retour à la normale...</td>\n",
       "      <td>autorouteavenir</td>\n",
       "    </tr>\n",
       "    <tr>\n",
       "      <th>1</th>\n",
       "      <td>2022-12-17 14:59:26+00:00</td>\n",
       "      <td>1604129148561137665</td>\n",
       "      <td>[17 Décembre 2022| 14:58] ALERTE TRAFIC🚗\\nBouc...</td>\n",
       "      <td>autorouteavenir</td>\n",
       "    </tr>\n",
       "    <tr>\n",
       "      <th>2</th>\n",
       "      <td>2022-12-17 11:10:31+00:00</td>\n",
       "      <td>1604071537149108225</td>\n",
       "      <td>[ 17 Décembre 2022 | 11:10] Retour à la normal...</td>\n",
       "      <td>autorouteavenir</td>\n",
       "    </tr>\n",
       "    <tr>\n",
       "      <th>3</th>\n",
       "      <td>2022-12-17 09:13:42+00:00</td>\n",
       "      <td>1604042141566750720</td>\n",
       "      <td>[ 17  DÉCEMBRE 2022 | 09:13] ALERTE TRAFIC🚗\\nB...</td>\n",
       "      <td>autorouteavenir</td>\n",
       "    </tr>\n",
       "    <tr>\n",
       "      <th>4</th>\n",
       "      <td>2022-12-15 11:31:50+00:00</td>\n",
       "      <td>1603352124749815808</td>\n",
       "      <td>[15 Décembre 2022 | 11:31] Retour à la normale...</td>\n",
       "      <td>autorouteavenir</td>\n",
       "    </tr>\n",
       "    <tr>\n",
       "      <th>...</th>\n",
       "      <td>...</td>\n",
       "      <td>...</td>\n",
       "      <td>...</td>\n",
       "      <td>...</td>\n",
       "    </tr>\n",
       "    <tr>\n",
       "      <th>96</th>\n",
       "      <td>2022-11-24 12:05:38+00:00</td>\n",
       "      <td>1595750488116547584</td>\n",
       "      <td>[24 Novembre 2022| 12:05] Retour à la normale ...</td>\n",
       "      <td>autorouteavenir</td>\n",
       "    </tr>\n",
       "    <tr>\n",
       "      <th>97</th>\n",
       "      <td>2022-11-24 07:51:04+00:00</td>\n",
       "      <td>1595686422371000320</td>\n",
       "      <td>[24 Novembre 2022| 07:51] ALERTE TRAFIC🚗\\nBouc...</td>\n",
       "      <td>autorouteavenir</td>\n",
       "    </tr>\n",
       "    <tr>\n",
       "      <th>98</th>\n",
       "      <td>2022-11-24 07:00:21+00:00</td>\n",
       "      <td>1595673659347062785</td>\n",
       "      <td>Vous souhaitez en savoir plus sur les stickers...</td>\n",
       "      <td>autorouteavenir</td>\n",
       "    </tr>\n",
       "    <tr>\n",
       "      <th>99</th>\n",
       "      <td>2022-11-23 21:31:55+00:00</td>\n",
       "      <td>1595530607676776460</td>\n",
       "      <td>@KaaniTeumbeul @kaw_kaw_bi @baye_One @leemouu_...</td>\n",
       "      <td>autorouteavenir</td>\n",
       "    </tr>\n",
       "    <tr>\n",
       "      <th>100</th>\n",
       "      <td>2022-11-23 21:10:44+00:00</td>\n",
       "      <td>1595525278121459712</td>\n",
       "      <td>@LatifMbodji @KaaniTeumbeul @natahmina @abdour...</td>\n",
       "      <td>autorouteavenir</td>\n",
       "    </tr>\n",
       "  </tbody>\n",
       "</table>\n",
       "<p>101 rows × 4 columns</p>\n",
       "</div>"
      ],
      "text/plain": [
       "                     Datetime             Tweet id  \\\n",
       "0   2022-12-17 17:02:16+00:00  1604160058321162240   \n",
       "1   2022-12-17 14:59:26+00:00  1604129148561137665   \n",
       "2   2022-12-17 11:10:31+00:00  1604071537149108225   \n",
       "3   2022-12-17 09:13:42+00:00  1604042141566750720   \n",
       "4   2022-12-15 11:31:50+00:00  1603352124749815808   \n",
       "..                        ...                  ...   \n",
       "96  2022-11-24 12:05:38+00:00  1595750488116547584   \n",
       "97  2022-11-24 07:51:04+00:00  1595686422371000320   \n",
       "98  2022-11-24 07:00:21+00:00  1595673659347062785   \n",
       "99  2022-11-23 21:31:55+00:00  1595530607676776460   \n",
       "100 2022-11-23 21:10:44+00:00  1595525278121459712   \n",
       "\n",
       "                                                  Text         Username  \n",
       "0    [17 Décembre 2022 | 17:01] Retour à la normale...  autorouteavenir  \n",
       "1    [17 Décembre 2022| 14:58] ALERTE TRAFIC🚗\\nBouc...  autorouteavenir  \n",
       "2    [ 17 Décembre 2022 | 11:10] Retour à la normal...  autorouteavenir  \n",
       "3    [ 17  DÉCEMBRE 2022 | 09:13] ALERTE TRAFIC🚗\\nB...  autorouteavenir  \n",
       "4    [15 Décembre 2022 | 11:31] Retour à la normale...  autorouteavenir  \n",
       "..                                                 ...              ...  \n",
       "96   [24 Novembre 2022| 12:05] Retour à la normale ...  autorouteavenir  \n",
       "97   [24 Novembre 2022| 07:51] ALERTE TRAFIC🚗\\nBouc...  autorouteavenir  \n",
       "98   Vous souhaitez en savoir plus sur les stickers...  autorouteavenir  \n",
       "99   @KaaniTeumbeul @kaw_kaw_bi @baye_One @leemouu_...  autorouteavenir  \n",
       "100  @LatifMbodji @KaaniTeumbeul @natahmina @abdour...  autorouteavenir  \n",
       "\n",
       "[101 rows x 4 columns]"
      ]
     },
     "execution_count": 20,
     "metadata": {},
     "output_type": "execute_result"
    }
   ],
   "source": [
    "tweets_data"
   ]
  },
  {
   "cell_type": "code",
   "execution_count": null,
   "metadata": {},
   "outputs": [],
   "source": []
  }
 ],
 "metadata": {
  "kernelspec": {
   "display_name": "base",
   "language": "python",
   "name": "python3"
  },
  "language_info": {
   "codemirror_mode": {
    "name": "ipython",
    "version": 3
   },
   "file_extension": ".py",
   "mimetype": "text/x-python",
   "name": "python",
   "nbconvert_exporter": "python",
   "pygments_lexer": "ipython3",
   "version": "3.9.12"
  },
  "orig_nbformat": 4,
  "vscode": {
   "interpreter": {
    "hash": "e17245beed66d97676295f18f5af02f52c1ff0b20014505018e20bb50c7c46d6"
   }
  }
 },
 "nbformat": 4,
 "nbformat_minor": 2
}
